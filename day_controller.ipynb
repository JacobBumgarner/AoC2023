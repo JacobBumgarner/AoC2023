{
 "cells": [
  {
   "cell_type": "code",
   "execution_count": 1,
   "metadata": {},
   "outputs": [],
   "source": [
    "import os\n",
    "from time import perf_counter"
   ]
  },
  {
   "cell_type": "code",
   "execution_count": 2,
   "metadata": {},
   "outputs": [],
   "source": [
    "# Input day number\n",
    "day = \"04\""
   ]
  },
  {
   "cell_type": "code",
   "execution_count": 3,
   "metadata": {},
   "outputs": [],
   "source": [
    "# Start the day. Make the py, data, and time files.\n",
    "filenames = [\n",
    "    day + \".py\",\n",
    "    os.path.join(\"data\", day + \".txt\"),\n",
    "    os.path.join(\"times\", day + \".txt\"),\n",
    "]\n",
    "\n",
    "start_time = perf_counter()\n",
    "\n",
    "for i in range(3):\n",
    "    with open(filenames[i], \"w\") as f:\n",
    "        f.close()"
   ]
  },
  {
   "cell_type": "code",
   "execution_count": 4,
   "metadata": {},
   "outputs": [],
   "source": [
    "# End the day. Record the current time and find the total solve time\n",
    "end_time = perf_counter()\n",
    "solve_time = end_time - start_time\n",
    "\n",
    "with open(filenames[2], \"a\") as f:\n",
    "    f.write(str(start_time) + \"\\n\")\n",
    "    f.write(str(end_time) + \"\\n\")\n",
    "    f.write(str(solve_time) + \"\\n\")\n",
    "    f.close()"
   ]
  },
  {
   "cell_type": "code",
   "execution_count": null,
   "metadata": {},
   "outputs": [],
   "source": []
  }
 ],
 "metadata": {
  "kernelspec": {
   "display_name": "Python 3.10.2 64-bit ('learning')",
   "language": "python",
   "name": "python3"
  },
  "language_info": {
   "codemirror_mode": {
    "name": "ipython",
    "version": 3
   },
   "file_extension": ".py",
   "mimetype": "text/x-python",
   "name": "python",
   "nbconvert_exporter": "python",
   "pygments_lexer": "ipython3",
   "version": "3.10.2"
  },
  "orig_nbformat": 4,
  "vscode": {
   "interpreter": {
    "hash": "083c3123b4ad7f25f53c003e80272d3d1894a33e093a79f10823ee80b0414ebd"
   }
  }
 },
 "nbformat": 4,
 "nbformat_minor": 2
}
